{
 "cells": [
  {
   "cell_type": "code",
   "execution_count": 1,
   "metadata": {},
   "outputs": [],
   "source": [
    "%load_ext sppl.magics\n",
    "%matplotlib inline"
   ]
  },
  {
   "cell_type": "code",
   "execution_count": 2,
   "metadata": {},
   "outputs": [],
   "source": [
    "%%sppl model\n",
    "param ~= randint(low=0, high=101)\n",
    "which ~= uniform(loc=0, scale=1)\n",
    "if (which < 0.9):\n",
    "    switch (param) cases (p in range(0, 101)):\n",
    "        x ~= norm(loc=p/10, scale=1)\n",
    "elif (which < 0.95):\n",
    "    x ~= uniform(loc=0, scale=10)\n",
    "else:\n",
    "    x ~= atomic(loc=10)"
   ]
  }
 ],
 "metadata": {
  "kernelspec": {
   "display_name": "Python 3",
   "language": "python",
   "name": "python3"
  },
  "language_info": {
   "codemirror_mode": {
    "name": "ipython",
    "version": 3
   },
   "file_extension": ".py",
   "mimetype": "text/x-python",
   "name": "python",
   "nbconvert_exporter": "python",
   "pygments_lexer": "ipython3",
   "version": "3.9.7"
  }
 },
 "nbformat": 4,
 "nbformat_minor": 4
}
