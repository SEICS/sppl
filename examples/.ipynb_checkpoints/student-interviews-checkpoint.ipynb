{
 "cells": [
  {
   "cell_type": "code",
   "execution_count": 1,
   "metadata": {},
   "outputs": [],
   "source": [
    "%load_ext sppl.magics\n",
    "%matplotlib inline\n",
    "import matplotlib.pyplot as plt"
   ]
  },
  {
   "cell_type": "code",
   "execution_count": 2,
   "metadata": {
    "scrolled": false
   },
   "outputs": [],
   "source": [
    "%%sppl model\n",
    "\n",
    "from sppl.sym_util import binspace\n",
    "from scipy.stats import poisson as p\n",
    "\n",
    "# Students.\n",
    "num_students       = 2\n",
    "student_perfect    = array(num_students)\n",
    "student_gpa        = array(num_students)\n",
    "student_interviews = array(num_students)\n",
    "student_offers     = array(num_students)\n",
    "\n",
    "# For each student, sample GPA.\n",
    "for s in range(num_students):\n",
    "    student_perfect[s] ~= bernoulli(p=.2)\n",
    "    if (student_perfect[s] == 0):\n",
    "        student_gpa[s] ~= beta(a=7, b=3, scale=4)\n",
    "    else:\n",
    "        student_gpa[s] ~= atomic(loc=4)\n",
    "        \n",
    "# Sample number of recruiters\n",
    "num_recruiters ~= poisson(mu=25)\n",
    "condition ((10 <= num_recruiters) <= 40)\n",
    "\n",
    "# Switch on number of recruiters.\n",
    "switch (num_recruiters) cases (n in range(10, 41)):\n",
    "\n",
    "    # For each student, sample interviews and offers.\n",
    "    for j in range(num_students):\n",
    "        student_interviews[j] ~= \\\n",
    "            binom(n=n, p=0.9) if (student_gpa[j] == 4)  else \\\n",
    "            binom(n=n, p=0.6) if ((3.5 < student_gpa[j]) < 4) else \\\n",
    "            binom(n=n, p=0.5)\n",
    "\n",
    "        # Switch on number of interviews.\n",
    "        switch (student_interviews[j]) cases (k in range(0, n+1)):\n",
    "            student_offers[j] ~= binom(n=k, p=0.4)"
   ]
  },
  {
   "cell_type": "code",
   "execution_count": 3,
   "metadata": {},
   "outputs": [],
   "source": [
    "n = %sppl_get_namespace model"
   ]
  },
  {
   "cell_type": "code",
   "execution_count": 4,
   "metadata": {},
   "outputs": [],
   "source": [
    "modelc = n.model.condition((n.student_offers[0] << {1}) & (n.num_recruiters > 30))"
   ]
  },
  {
   "cell_type": "code",
   "execution_count": 5,
   "metadata": {},
   "outputs": [],
   "source": [
    "import numpy as np\n",
    "xs = np.linspace(0, 4, 20)\n",
    "gpa_prior = [n.model.prob(n.student_gpa[0] < i ) for i in xs]\n",
    "gpa_posterior = [modelc.prob(n.student_gpa[0] <i ) for i in xs]"
   ]
  },
  {
   "cell_type": "code",
   "execution_count": 6,
   "metadata": {},
   "outputs": [
    {
     "data": {
      "text/plain": [
       "<matplotlib.legend.Legend at 0x7fc49b49b128>"
      ]
     },
     "execution_count": 6,
     "metadata": {},
     "output_type": "execute_result"
    },
    {
     "data": {
      "image/png": "[encoded data removed]",
      "text/plain": [
       "<Figure size 432x288 with 1 Axes>"
      ]
     },
     "metadata": {
      "needs_background": "light"
     },
     "output_type": "display_data"
    }
   ],
   "source": [
    "fig, ax = plt.subplots()\n",
    "ax.plot(xs, gpa_prior, label='Prior CDF of GPA')\n",
    "ax.plot(xs, gpa_posterior, label='Posterior CDF of GPA')\n",
    "ax.legend(loc='upper left')"
   ]
  }
 ],
 "metadata": {
  "kernelspec": {
   "display_name": "Python 3",
   "language": "python",
   "name": "python3"
  },
  "language_info": {
   "codemirror_mode": {
    "name": "ipython",
    "version": 3
   },
   "file_extension": ".py",
   "mimetype": "text/x-python",
   "name": "python",
   "nbconvert_exporter": "python",
   "pygments_lexer": "ipython3",
   "version": "3.9.7"
  }
 },
 "nbformat": 4,
 "nbformat_minor": 4
}
