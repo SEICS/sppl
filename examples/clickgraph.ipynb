{
 "cells": [
  {
   "cell_type": "code",
   "execution_count": 1,
   "metadata": {},
   "outputs": [],
   "source": [
    "%load_ext sppl.magics\n",
    "%matplotlib inline\n",
    "import matplotlib.pyplot as plt"
   ]
  },
  {
   "cell_type": "markdown",
   "metadata": {},
   "source": [
    "### The ClickGraph model\n",
    "\n",
    "[ClickGraph](https://dotnet.github.io/infer/userguide/Click%20model%20example.html) is an information-retrieval model used to compute the posterior probability that a pair of items A and B are similar, conditioned on a user's access patterns to these items.  This model is used, for example, to measure the quality of a search engine, where A and B represent two URLs that are returned to a given search query.  A search engine is said to be good if the probability that URLs A and B are similar is high.\n",
    "\n",
    "The probabilistic program below implements the ClickGraph model, for five pairs of URLs and one user's click patterns."
   ]
  },
  {
   "cell_type": "code",
   "execution_count": 2,
   "metadata": {},
   "outputs": [],
   "source": [
    "%%sppl model\n",
    "from sppl.sym_util import binspace\n",
    "\n",
    "p_similar ~= beta(a=1, b=1)   # Prior probabilty URLs A and B are similar. (in [0,1])\n",
    "\n",
    "# Five file pairs\n",
    "similar         = array(5)    # Are url_A[i] and url_B[i] similar? (binary)\n",
    "p_click_url_A   = array(5)    # Probability user clicks url_A[i]. (in [0,1])\n",
    "p_click_url_B   = array(5)    # Probability user clicks url_B[i]. (in [0,1])\n",
    "click_url_A     = array(5)    # Did user click url_A[i]? (binary)\n",
    "click_url_B     = array(5)    # Did user click url_B[i]? (binary)\n",
    "\n",
    "for i in range(5):\n",
    "    switch (p_similar) cases (p in binspace(0, 1, 20)):\n",
    "        similar[i] ~= bernoulli(p=p.right)\n",
    "\n",
    "    if similar[i] == 1:\n",
    "        p_click_url_A[i] ~= uniform()\n",
    "        p_click_url_B[i] ~= p_click_url_A[i]\n",
    "    else:\n",
    "        p_click_url_A[i] ~= uniform()\n",
    "        p_click_url_B[i] ~= uniform()\n",
    "\n",
    "    switch (p_click_url_A[i]) cases (p in binspace(0, 1, 10)):\n",
    "        click_url_A[i] ~= bernoulli(p=p.right)\n",
    "\n",
    "    switch (p_click_url_B[i]) cases (p in binspace(0, 1, 10)):\n",
    "        click_url_B[i] ~= bernoulli(p=p.right)"
   ]
  },
  {
   "cell_type": "code",
   "execution_count": 3,
   "metadata": {},
   "outputs": [],
   "source": [
    "n = %sppl_get_namespace model"
   ]
  },
  {
   "cell_type": "markdown",
   "metadata": {},
   "source": [
    "We next record observations of the users clicks for each of the 10 URLs. Using `model.condition` returns a new model, called `modelc`, which represents the exact posterior distribution of all random variables in the program."
   ]
  },
  {
   "cell_type": "code",
   "execution_count": 4,
   "metadata": {},
   "outputs": [],
   "source": [
    "observations = (\n",
    "        n.click_url_A[0] << {1} & n.click_url_A[0] << {1}\n",
    "    &   n.click_url_A[1] << {1} & n.click_url_B[1] << {1}\n",
    "    &   n.click_url_A[2] << {0} & n.click_url_B[2] << {0}\n",
    "    &   n.click_url_A[3] << {1} & n.click_url_B[3] << {1}\n",
    "    &   n.click_url_A[4] << {0} & n.click_url_B[4] << {0})"
   ]
  },
  {
   "cell_type": "code",
   "execution_count": 5,
   "metadata": {},
   "outputs": [],
   "source": [
    "modelc = n.model.condition(observations)"
   ]
  },
  {
   "cell_type": "markdown",
   "metadata": {},
   "source": [
    "We next compute the prior and posterior distributions of `p_similar` for plotting."
   ]
  },
  {
   "cell_type": "code",
   "execution_count": 6,
   "metadata": {},
   "outputs": [],
   "source": [
    "import numpy as np\n",
    "xs = np.linspace(0, 1, 30)\n",
    "cdf_prior = [n.model.prob(n.p_similar < x) for x in xs]\n",
    "cdf_posterior = [modelc.prob(n.p_similar < x) for x in xs]\n",
    "\n",
    "pdf_prior = np.exp([n.model.logpdf({n.p_similar: x}) for x in xs])\n",
    "pdf_posterior = np.exp([modelc.logpdf({n.p_similar : x}) for x in xs])\n",
    "\n",
    "samples_prior = n.model.sample_subset([n.p_similar], N=4000)\n",
    "samples_posterior = modelc.sample_subset([n.p_similar], N=4000)"
   ]
  },
  {
   "cell_type": "markdown",
   "metadata": {},
   "source": [
    "The posterior of `p_similar` has shifted from the uniform prior (black) to a posterior left-skewed distribution (red), based on the observed clicks."
   ]
  },
  {
   "cell_type": "code",
   "execution_count": 7,
   "metadata": {},
   "outputs": [
    {
     "data": {
      "image/png": "[encoded data removed]",
      "text/plain": [
       "<Figure size 1080x216 with 4 Axes>"
      ]
     },
     "metadata": {
      "needs_background": "light"
     },
     "output_type": "display_data"
    }
   ],
   "source": [
    "fig, axes = plt.subplots(ncols=4)\n",
    "\n",
    "axes[0].plot(xs, cdf_prior, color='k', label='prior distribution')\n",
    "axes[0].plot(xs, cdf_posterior, color='r', label='posterior distribution')\n",
    "axes[0].set_xlabel('p_similar')\n",
    "axes[0].set_ylabel('cumulative probability')\n",
    "axes[0].legend(loc='upper left')\n",
    "\n",
    "axes[1].plot(xs, pdf_prior, color='k', label='prior density')\n",
    "axes[1].plot(xs, pdf_posterior, color='r', label='posterior density')\n",
    "axes[1].set_xlabel('p_similar')\n",
    "axes[1].set_ylabel('probability density')\n",
    "axes[1].legend(loc='upper left')\n",
    "\n",
    "axes[2].hist([s[n.p_similar] for s in samples_prior],\n",
    "    bins=10, density=1, color='k', label='prior samples');\n",
    "axes[3].hist([s[n.p_similar] for s in samples_posterior],\n",
    "    bins=10, density=1, color='r', label='posterior samples');\n",
    "for ax in axes[2:]:\n",
    "    ax.set_ylim([0, 1.6])\n",
    "    ax.set_yticks([])\n",
    "    ax.set_xlabel('p_similar')\n",
    "    ax.legend()\n",
    "\n",
    "fig.set_size_inches(15, 3)\n",
    "fig.set_tight_layout(True)"
   ]
  }
 ],
 "metadata": {
  "kernelspec": {
   "display_name": "Python 3",
   "language": "python",
   "name": "python3"
  },
  "language_info": {
   "codemirror_mode": {
    "name": "ipython",
    "version": 3
   },
   "file_extension": ".py",
   "mimetype": "text/x-python",
   "name": "python",
   "nbconvert_exporter": "python",
   "pygments_lexer": "ipython3",
   "version": "3.9.7"
  }
 },
 "nbformat": 4,
 "nbformat_minor": 4
}
