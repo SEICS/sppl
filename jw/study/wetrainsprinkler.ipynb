{
 "cells": [
  {
   "cell_type": "code",
   "execution_count": null,
   "id": "eb68dcb0",
   "metadata": {},
   "outputs": [],
   "source": [
    "%load_ext sppl.magics\n",
    "%%sppl model"
   ]
  },
  {
   "cell_type": "code",
   "execution_count": null,
   "id": "b709c9d3",
   "metadata": {},
   "outputs": [],
   "source": [
    "n = 20\n",
    "k = 20\n",
    "isEffective ~= bernoulli(p=.5)\n",
    "probControl ~= randint(low=0, high=k)\n",
    "probTreated ~= randint(low=0, high=k)\n",
    "probAll ~= randint(low=0, high=k)\n",
    "\n",
    "controlGroup = array(n)\n",
    "treatedGroup = array(n)\n",
    "\n",
    "if (isEffective == 1):\n",
    "    for i in range(n):\n",
    "        switch (probControl) cases (p in range(k)):\n",
    "            controlGroup[i] ~= bernoulli(p=p/k)\n",
    "        switch (probTreated) cases (p in range(k)):\n",
    "            treatedGroup[i] ~= bernoulli(p=p/k)\n",
    "else:\n",
    "    for i in range(n):\n",
    "        switch (probAll) cases (p in range(k)):\n",
    "            controlGroup[i] ~= bernoulli(p=p/k)\n",
    "            treatedGroup[i] ~= bernoulli(p=p/k)"
   ]
  },
  {
   "cell_type": "code",
   "execution_count": null,
   "id": "d085270a",
   "metadata": {},
   "outputs": [],
   "source": []
  }
 ],
 "metadata": {
  "kernelspec": {
   "display_name": "Python 3",
   "language": "python",
   "name": "python3"
  },
  "language_info": {
   "codemirror_mode": {
    "name": "ipython",
    "version": 3
   },
   "file_extension": ".py",
   "mimetype": "text/x-python",
   "name": "python",
   "nbconvert_exporter": "python",
   "pygments_lexer": "ipython3",
   "version": "3.9.7"
  }
 },
 "nbformat": 4,
 "nbformat_minor": 5
}
